{
 "cells": [
  {
   "cell_type": "markdown",
   "metadata": {},
   "source": [
    "# Assignment 1 - COMP 472\n"
   ]
  },
  {
   "cell_type": "markdown",
   "metadata": {},
   "source": [
    "#### Teammates:\n",
    "Tabish Ashfaq - 26752624\n",
    "\n",
    "Jan Libera - 27728085"
   ]
  },
  {
   "cell_type": "markdown",
   "metadata": {},
   "source": [
    "## Task 0\n",
    "Remove document identifier, and also the topic label, which you don't need. "
   ]
  },
  {
   "cell_type": "code",
   "execution_count": 108,
   "metadata": {},
   "outputs": [],
   "source": [
    "from __future__ import division\n",
    "from codecs import open\n",
    "\n",
    "def read_documents(doc_file):\n",
    "    docs = []\n",
    "    labels = []\n",
    "    with open(doc_file, encoding='utf-8') as f:\n",
    "        for line in f:\n",
    "            words = line.strip().split()\n",
    "            docs.append(words[3:])\n",
    "            labels.append(words[1])\n",
    "    return docs, labels\n",
    "    \n",
    "# Reads provide doc file.\n",
    "# Args --> doc_file (str): Path to given data file.\n",
    "# Returns --> Tuple of lists (words, labels) \n",
    " "
   ]
  },
  {
   "cell_type": "code",
   "execution_count": 109,
   "metadata": {},
   "outputs": [],
   "source": [
    "all_docs, all_labels = read_documents(\"sample-text.txt\")\n",
    "\n",
    "split_point = int(0.80*len(all_docs))\n",
    "train_docs = all_docs[:split_point]\n",
    "train_labels = all_labels[:split_point]\n",
    "eval_docs = all_docs[split_point:]\n",
    "eval_labels = all_labels[split_point:]"
   ]
  },
  {
   "cell_type": "code",
   "execution_count": 110,
   "metadata": {},
   "outputs": [],
   "source": [
    "result = [[i,' '.join(j)] for i,j in zip(all_labels, all_docs)]"
   ]
  },
  {
   "cell_type": "markdown",
   "metadata": {},
   "source": [
    "## Task 1\n",
    "Plot the distribution of the number of the instances in each class (books, camera, dvd, health, music, or software).\n"
   ]
  },
  {
   "cell_type": "code",
   "execution_count": 111,
   "metadata": {},
   "outputs": [
    {
     "data": {
      "text/plain": [
       "<matplotlib.axes._subplots.AxesSubplot at 0x2ca3b9edb88>"
      ]
     },
     "execution_count": 111,
     "metadata": {},
     "output_type": "execute_result"
    },
    {
     "data": {
      "image/png": "[encoded data removed]",
      "text/plain": [
       "<Figure size 576x396 with 1 Axes>"
      ]
     },
     "metadata": {},
     "output_type": "display_data"
    }
   ],
   "source": [
    "import numpy as np\n",
    "import pandas as pd\n",
    "import matplotlib.pyplot as plt\n",
    "import seaborn as sns\n",
    "data = pd.DataFrame(result, columns=['sentiment','text'])\n",
    "\n",
    "plt.style.use('seaborn')\n",
    "\n",
    "sns.countplot('sentiment', data = data)"
   ]
  },
  {
   "cell_type": "code",
   "execution_count": 112,
   "metadata": {},
   "outputs": [
    {
     "name": "stdout",
     "output_type": "stream",
     "text": [
      "      sentiment                                               text\n",
      "0           neg  i bought this album because i loved the title ...\n",
      "1           neg  i was misled and thought i was buying the enti...\n",
      "2           neg  i have introduced many of my ell , high school...\n",
      "3           pos  anything you purchase in the left behind serie...\n",
      "4           pos  i loved these movies , and i cant wiat for the...\n",
      "...         ...                                                ...\n",
      "11909       neg  the story here dose n't matter . the main char...\n",
      "11910       pos  i liked everything about this product except i...\n",
      "11911       pos  this flash is the perfect back-up for a studio...\n",
      "11912       neg  i had boughten this as a gift which turned out...\n",
      "11913       neg  the pedometer arrive held prisoner in a diffic...\n",
      "\n",
      "[11914 rows x 2 columns]\n"
     ]
    }
   ],
   "source": [
    "print(data)"
   ]
  },
  {
   "cell_type": "code",
   "execution_count": 113,
   "metadata": {},
   "outputs": [
    {
     "name": "stdout",
     "output_type": "stream",
     "text": [
      "X_train:  9531\n",
      "X_test:  2383\n",
      "y_train:  9531\n",
      "y_test:  2383\n"
     ]
    }
   ],
   "source": [
    "print (\"X_train: \", len(train_docs))\n",
    "print(\"X_test: \", len(eval_docs))\n",
    "print(\"y_train: \", len(train_labels))\n",
    "print(\"y_test: \", len(eval_labels))"
   ]
  },
  {
   "cell_type": "code",
   "execution_count": 114,
   "metadata": {},
   "outputs": [],
   "source": [
    "#for counting frequently occurrence of negative and positive words.\n",
    "from collections import Counter\n",
    "import re\n",
    "\n",
    "count1 = Counter(\" \".join(data[data['sentiment']=='pos'][\"text\"]).split()).most_common(30)\n",
    "data1 = pd.DataFrame.from_dict(count1)\n",
    "data1 = data1.rename(columns={0: \"positive words\", 1 : \"count\"})\n",
    "count2 = Counter(\" \".join(data[data['sentiment']=='neg'][\"text\"]).split()).most_common(30)\n",
    "data2 = pd.DataFrame.from_dict(count2)\n",
    "data2 = data2.rename(columns={0: \"negative words\", 1 : \"count_\"})"
   ]
  },
  {
   "cell_type": "code",
   "execution_count": 115,
   "metadata": {},
   "outputs": [
    {
     "data": {
      "image/png": "[encoded data removed]",
      "text/plain": [
       "<Figure size 720x360 with 1 Axes>"
      ]
     },
     "metadata": {},
     "output_type": "display_data"
    }
   ],
   "source": [
    "\n",
    "data1.plot.bar(legend = False, color = 'blue',figsize = (10,5))\n",
    "y_pos = np.arange(len(data1[\"positive words\"]))\n",
    "plt.xticks(y_pos, data1[\"positive words\"])\n",
    "plt.title('Top 30 words of positive origin')\n",
    "plt.xlabel('words')\n",
    "plt.ylabel('number')\n",
    "plt.show()"
   ]
  },
  {
   "cell_type": "code",
   "execution_count": 116,
   "metadata": {},
   "outputs": [
    {
     "data": {
      "image/png": "[encoded data removed]",
      "text/plain": [
       "<Figure size 720x360 with 1 Axes>"
      ]
     },
     "metadata": {},
     "output_type": "display_data"
    }
   ],
   "source": [
    "data2.plot.bar(legend = False, color = 'red', figsize = (10,5))\n",
    "y_pos = np.arange(len(data2[\"negative words\"]))\n",
    "plt.xticks(y_pos, data2[\"negative words\"])\n",
    "plt.title('Top 30 words of negative origin')\n",
    "plt.xlabel('words')\n",
    "plt.ylabel('number')\n",
    "plt.show()"
   ]
  },
  {
   "cell_type": "markdown",
   "metadata": {},
   "source": [
    "## Task 2"
   ]
  },
  {
   "cell_type": "code",
   "execution_count": 117,
   "metadata": {},
   "outputs": [
    {
     "data": {
      "text/plain": [
       "41893"
      ]
     },
     "execution_count": 117,
     "metadata": {},
     "output_type": "execute_result"
    }
   ],
   "source": [
    "from sklearn.model_selection import train_test_split\n",
    "from sklearn.feature_extraction.text import TfidfVectorizer\n",
    "from sklearn.feature_extraction.text import CountVectorizer\n",
    "\n",
    "X = data['text']\n",
    "y = data['sentiment']\n",
    "\n",
    "X_train, X_test, y_train, y_test = train_test_split(X, y, test_size = 0.2, random_state = 37)\n",
    "\n",
    "X_test_text = X_test.copy()\n",
    "\n",
    "#tfidf_vect = TfidfVectorizer()\n",
    "vectorizer = CountVectorizer(stop_words='english')\n",
    "\n",
    "X_train = vectorizer.fit_transform(X_train)\n",
    "X_test = vectorizer.transform(X_test)\n",
    "\n",
    "len(vectorizer.get_feature_names())"
   ]
  },
  {
   "cell_type": "code",
   "execution_count": 124,
   "metadata": {},
   "outputs": [],
   "source": [
    "from sklearn.metrics import accuracy_score,recall_score,precision_score,f1_score\n",
    "from sklearn.metrics import confusion_matrix, classification_report, accuracy_score, make_scorer\n",
    "from sklearn.naive_bayes import MultinomialNB\n",
    "from sklearn.tree import DecisionTreeClassifier\n",
    "from sklearn.ensemble import ExtraTreesClassifier\n",
    "from sklearn.model_selection import GridSearchCV\n",
    "import csv\n",
    "\n",
    "# Naive Bayes Classifier\n",
    "nb = MultinomialNB()\n",
    "\n",
    "# Base - DT\n",
    "dtc = DecisionTreeClassifier(criterion='entropy')\n",
    "\n",
    "#Best DT Grid Search CV\n",
    "#parameters = {'criterion':[\"entropy\"], 'random_state':range(0,100),'min_samples_split':range(2,20), 'min_impurity_decrease': list(np.linspace(0,1,20))}\n",
    "# parameters = {'criterion':[\"entropy\"], 'random_state':range(0,100)}\n",
    "# acc_scorer = make_scorer(accuracy_score)\n",
    "# clf = GridSearchCV(DecisionTreeClassifier(), parameters, scoring=acc_scorer)\n",
    "# clf.fit(X_train, y_train)\n",
    "# best_dt = clf.best_estimator_\n",
    "# print (clf.best_score_, clf.best_params_)\n",
    "\n",
    "# Best - DT\n",
    "best_dt = ExtraTreesClassifier(n_estimators=37, random_state=252)\n",
    "\n",
    "models = {'Naive Bayes classifier':nb, 'Decision Tree Classifier':dtc, 'Optimal Decision Tree Classifier':best_dt}"
   ]
  },
  {
   "cell_type": "code",
   "execution_count": 125,
   "metadata": {},
   "outputs": [],
   "source": [
    "def eval_model(model):\n",
    "    \n",
    "    model.fit(X_train, y_train)\n",
    "    y_pred = model.predict(X_test)\n",
    "    \n",
    "    test_accuracy = accuracy_score(y_test, y_pred)\n",
    "    test_report = classification_report(y_test, y_pred)\n",
    "    conf_matrix = pd.DataFrame(confusion_matrix(y_test, y_pred), columns=['pos', 'neg'], index=['pos','neg'])\n",
    "    \n",
    "    return test_accuracy, conf_matrix, test_report, y_pred"
   ]
  },
  {
   "cell_type": "markdown",
   "metadata": {},
   "source": [
    "## Task 3"
   ]
  },
  {
   "cell_type": "code",
   "execution_count": 126,
   "metadata": {},
   "outputs": [],
   "source": [
    "import csv\n",
    "\n",
    "test_accuracies = []\n",
    "confusion_matrices = []\n",
    "for name, model in models.items():\n",
    "    test_acc, conf_matrix, test_report, y_pred = eval_model(model) \n",
    "    test_accuracies.append(test_acc)\n",
    "    confusion_matrices.append(conf_matrix)\n",
    "    with open('{}.txt'.format(name), mode='w') as csvfile:\n",
    "      writer = csv.writer(csvfile, lineterminator='\\n')\n",
    "      for i in range(X_test.shape[0]):\n",
    "        writer.writerow([i, y_pred[i]])\n",
    "      writer.writerow([f'{name} -> Test accuracy - {test_acc*100:.2f}% \\nand confusion matrix:\\n{conf_matrix}'])\n",
    "      writer.writerow([test_report])\n",
    "    \n",
    "    csvfile.close()"
   ]
  },
  {
   "cell_type": "markdown",
   "metadata": {},
   "source": [
    "## Task 4\n"
   ]
  },
  {
   "cell_type": "code",
   "execution_count": 140,
   "metadata": {},
   "outputs": [
    {
     "name": "stdout",
     "output_type": "stream",
     "text": [
      "=================\n",
      " Naive Bayes classifier\n",
      "  prediction        Predicted probability-['neg','pos']  true  \\\n",
      "0        pos  [0.07297186522163482, 0.9270281347783665]     0   \n",
      "\n",
      "                                                TEXT  \n",
      "0  i love peterson 's guides , but the birds of m...  \n",
      "=================\n",
      " Decision Tree Classifier\n",
      "  prediction Predicted probability-['neg','pos']  true  \\\n",
      "0        pos                          [0.0, 1.0]     0   \n",
      "\n",
      "                                                TEXT  \n",
      "0  i ordered the sony dcr-dvd108 on april 9. i st...  \n",
      "=================\n",
      " Optimal Decision Tree Classifier\n",
      "  prediction       Predicted probability-['neg','pos']  true  \\\n",
      "0        neg  [0.4594594594594595, 0.5405405405405406]     1   \n",
      "\n",
      "                                                TEXT  \n",
      "0  i have been a barry manilow fan since i was a ...  \n"
     ]
    }
   ],
   "source": [
    "#Getting false predictions. Currently being saved in txt file, but would be better to store in a dataframe and save to disk.\n",
    "for name, model in models.items():\n",
    "  #print(model.classes_)\n",
    "  print(\"=================\\n\",name)\n",
    "  y_pred_probs = model.predict_proba(X_test)\n",
    "  y_pred = model.predict(X_test)\n",
    "  rounded_probs = np.around(y_pred_probs)\n",
    "  y_test_binary = y_test.copy()\n",
    "  y_test_binary[y_test_binary == 'neg'] = 0\n",
    "  y_test_binary[y_test_binary == 'pos'] = 1\n",
    "  false_predictions = np.zeros(y_test.shape)\n",
    "  false_predictions[y_test != y_pred] = 1\n",
    "  false_pred_indices = np.where(false_predictions)\n",
    "\n",
    "  with open('{}-false-predictions.txt'.format(name), mode='w',encoding='utf-8') as outfile:\n",
    "    writer = csv.writer(outfile, lineterminator='\\n')\n",
    "    writer.writerow([\"{} False Predictions\".format(name)])\n",
    "    for ind in false_pred_indices:\n",
    "      text = np.array(X_test_text)[ind]\n",
    "      writer.writerow([text, y_pred_probs[ind], np.array(y_test_binary)[ind]])\n",
    "      #print(\"prediction: {}, pred_proba: {}, true: {}\".format(y_pred[ind][0], y_pred_probs[ind][1], np.array(y_test_binary)[ind][0]))\n",
    "      pred = pd.DataFrame({\n",
    "                     'prediction' : y_pred[ind][0],\n",
    "                     \"Predicted probability-['neg','pos']\" : [y_pred_probs[ind][1]], \n",
    "                     'true':np.array(y_test_binary)[ind][0],\n",
    "                     'TEXT': np.array(X_test_text)[ind][0] })\n",
    "      print(pred)"
   ]
  },
  {
   "cell_type": "markdown",
   "metadata": {},
   "source": [
    "### References\n",
    "\n",
    "[1] http://www.cse.chalmers.se/~richajo/dit862/assignment2.html#foot1\n",
    "[2] https://scikit-learn.org/stable/modules/feature_extraction.html"
   ]
  },
  {
   "cell_type": "code",
   "execution_count": null,
   "metadata": {},
   "outputs": [],
   "source": []
  },
  {
   "cell_type": "code",
   "execution_count": null,
   "metadata": {},
   "outputs": [],
   "source": []
  },
  {
   "cell_type": "code",
   "execution_count": null,
   "metadata": {},
   "outputs": [],
   "source": []
  },
  {
   "cell_type": "code",
   "execution_count": null,
   "metadata": {},
   "outputs": [],
   "source": []
  }
 ],
 "metadata": {
  "kernelspec": {
   "display_name": "Python 3",
   "language": "python",
   "name": "python3"
  },
  "language_info": {
   "codemirror_mode": {
    "name": "ipython",
    "version": 3
   },
   "file_extension": ".py",
   "mimetype": "text/x-python",
   "name": "python",
   "nbconvert_exporter": "python",
   "pygments_lexer": "ipython3",
   "version": "3.7.4"
  }
 },
 "nbformat": 4,
 "nbformat_minor": 2
}
