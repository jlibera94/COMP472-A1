{
 "cells": [
  {
   "cell_type": "markdown",
   "metadata": {},
   "source": [
    "# Assignment 1 - COMP 472\n"
   ]
  },
  {
   "cell_type": "markdown",
   "metadata": {},
   "source": [
    "## Task 0\n",
    "Remove document identifier, and also the topic label, which you don't need. "
   ]
  },
  {
   "cell_type": "code",
   "execution_count": 93,
   "metadata": {},
   "outputs": [],
   "source": [
    "from __future__ import division\n",
    "from codecs import open\n",
    "\n",
    "def read_documents(doc_file: str) -> (list, list):\n",
    "    docs = []\n",
    "    labels = []\n",
    "    with open(doc_file, encoding='utf-8') as f:\n",
    "        for line in f:\n",
    "            words = line.strip().split()\n",
    "            docs.append(words[3:])\n",
    "            labels.append(words[1])\n",
    "    return docs, labels\n",
    "    \n",
    "# Reads provide doc file.\n",
    "# Args --> doc_file (str): Path to given data file.\n",
    "# Returns --> Tuple of lists (words, labels) \n",
    " "
   ]
  },
  {
   "cell_type": "code",
   "execution_count": 94,
   "metadata": {},
   "outputs": [],
   "source": [
    "all_docs, all_labels = read_documents(\"C:\\\\Users\\\\jlibe\\\\github\\\\COMP472-A1\\\\sample-text.txt\")\n",
    "\n",
    "split_point = int(0.80*len(all_docs))\n",
    "train_docs = all_docs[:split_point]\n",
    "train_labels = all_labels[:split_point]\n",
    "eval_docs = all_docs[split_point:]\n",
    "eval_labels = all_labels[split_point:]"
   ]
  },
  {
   "cell_type": "markdown",
   "metadata": {},
   "source": [
    "For readability purposes I would like to use a data frame to match all of the reviews. Followed this [video](https://www.youtube.com/watch?v=CXi0iQoUgDk&ab_channel=metazoneTrainings-NeerajSharma) for setting this up."
   ]
  },
  {
   "cell_type": "code",
   "execution_count": 95,
   "metadata": {},
   "outputs": [
    {
     "data": {
      "text/html": [
       "<div>\n",
       "<style scoped>\n",
       "    .dataframe tbody tr th:only-of-type {\n",
       "        vertical-align: middle;\n",
       "    }\n",
       "\n",
       "    .dataframe tbody tr th {\n",
       "        vertical-align: top;\n",
       "    }\n",
       "\n",
       "    .dataframe thead th {\n",
       "        text-align: right;\n",
       "    }\n",
       "</style>\n",
       "<table border=\"1\" class=\"dataframe\">\n",
       "  <thead>\n",
       "    <tr style=\"text-align: right;\">\n",
       "      <th></th>\n",
       "      <th>0</th>\n",
       "      <th>1</th>\n",
       "    </tr>\n",
       "  </thead>\n",
       "  <tbody>\n",
       "    <tr>\n",
       "      <td>0</td>\n",
       "      <td>neg</td>\n",
       "      <td>[i, bought, this, album, because, i, loved, th...</td>\n",
       "    </tr>\n",
       "    <tr>\n",
       "      <td>1</td>\n",
       "      <td>neg</td>\n",
       "      <td>[i, was, misled, and, thought, i, was, buying,...</td>\n",
       "    </tr>\n",
       "    <tr>\n",
       "      <td>2</td>\n",
       "      <td>neg</td>\n",
       "      <td>[i, have, introduced, many, of, my, ell, ,, hi...</td>\n",
       "    </tr>\n",
       "    <tr>\n",
       "      <td>3</td>\n",
       "      <td>pos</td>\n",
       "      <td>[anything, you, purchase, in, the, left, behin...</td>\n",
       "    </tr>\n",
       "    <tr>\n",
       "      <td>4</td>\n",
       "      <td>pos</td>\n",
       "      <td>[i, loved, these, movies, ,, and, i, cant, wia...</td>\n",
       "    </tr>\n",
       "    <tr>\n",
       "      <td>...</td>\n",
       "      <td>...</td>\n",
       "      <td>...</td>\n",
       "    </tr>\n",
       "    <tr>\n",
       "      <td>9526</td>\n",
       "      <td>pos</td>\n",
       "      <td>[i, ,, too, ,, have, an, ma, in, american, his...</td>\n",
       "    </tr>\n",
       "    <tr>\n",
       "      <td>9527</td>\n",
       "      <td>neg</td>\n",
       "      <td>[the, positive, about, pccillin, is, that, it,...</td>\n",
       "    </tr>\n",
       "    <tr>\n",
       "      <td>9528</td>\n",
       "      <td>neg</td>\n",
       "      <td>[in, the, user, manual, there, is, a, whole, l...</td>\n",
       "    </tr>\n",
       "    <tr>\n",
       "      <td>9529</td>\n",
       "      <td>pos</td>\n",
       "      <td>[finally, ,, an, ab, video, that, makes, sense...</td>\n",
       "    </tr>\n",
       "    <tr>\n",
       "      <td>9530</td>\n",
       "      <td>neg</td>\n",
       "      <td>[this, device, is, useless, for, monitoring, p...</td>\n",
       "    </tr>\n",
       "  </tbody>\n",
       "</table>\n",
       "<p>9531 rows × 2 columns</p>\n",
       "</div>"
      ],
      "text/plain": [
       "        0                                                  1\n",
       "0     neg  [i, bought, this, album, because, i, loved, th...\n",
       "1     neg  [i, was, misled, and, thought, i, was, buying,...\n",
       "2     neg  [i, have, introduced, many, of, my, ell, ,, hi...\n",
       "3     pos  [anything, you, purchase, in, the, left, behin...\n",
       "4     pos  [i, loved, these, movies, ,, and, i, cant, wia...\n",
       "...   ...                                                ...\n",
       "9526  pos  [i, ,, too, ,, have, an, ma, in, american, his...\n",
       "9527  neg  [the, positive, about, pccillin, is, that, it,...\n",
       "9528  neg  [in, the, user, manual, there, is, a, whole, l...\n",
       "9529  pos  [finally, ,, an, ab, video, that, makes, sense...\n",
       "9530  neg  [this, device, is, useless, for, monitoring, p...\n",
       "\n",
       "[9531 rows x 2 columns]"
      ]
     },
     "execution_count": 95,
     "metadata": {},
     "output_type": "execute_result"
    }
   ],
   "source": [
    "import pandas as pd\n",
    "import numpy as np\n",
    "\n",
    "li = [train_labels, train_docs]\n",
    "data = pd.DataFrame(li)\n",
    "data_transpose = data.transpose()\n",
    "data_transpose\n",
    "#df = pd.DataFrame(data_transpose, columns=['sentiment'])\n",
    "#print(df)"
   ]
  },
  {
   "cell_type": "markdown",
   "metadata": {},
   "source": [
    "## Task 1\n",
    "Plot the distribution of the number of the instances in each class (books, camera, dvd, health, music, or software).\n"
   ]
  },
  {
   "cell_type": "code",
   "execution_count": 96,
   "metadata": {},
   "outputs": [
    {
     "name": "stdout",
     "output_type": "stream",
     "text": [
      "{'neg': 5914, 'pos': 6000}\n"
     ]
    },
    {
     "data": {
      "image/png": "[encoded data removed]",
      "text/plain": [
       "<Figure size 432x288 with 1 Axes>"
      ]
     },
     "metadata": {
      "needs_background": "light"
     },
     "output_type": "display_data"
    }
   ],
   "source": [
    "#Task 1 - Plot label distribution\n",
    "\n",
    "import matplotlib.pyplot as plt\n",
    "\n",
    "def get_label_distribution(all_labels: list) -> dict:\n",
    "    \n",
    "    labels = sorted(list(set(all_labels)))\n",
    "    label_counts = {label: all_labels.count(label) for label in labels}\n",
    "    return label_counts\n",
    "\n",
    "# Calculates distribution of labels.\n",
    "# Args --> all_labels (list): List of all labels.\n",
    "# Returns -->  Dictionary keys (labels) and values (count)\n",
    "# e.g. { 'health': 3, 'books': 45 }\n",
    "\n",
    "# Get label distribution\n",
    "\n",
    "label_distribution = get_label_distribution(all_labels)\n",
    "\n",
    "print(label_distribution)\n",
    "\n",
    "# Plot label distribution\n",
    "plt.figure()\n",
    "plt.bar(label_distribution.keys(), label_distribution.values(), 0.7)\n",
    "for x, y in enumerate(label_distribution.values()):\n",
    "    plt.text(x, y, str(y), horizontalalignment='center')\n",
    "plt.show()"
   ]
  },
  {
   "cell_type": "code",
   "execution_count": 86,
   "metadata": {},
   "outputs": [],
   "source": [
    "\n"
   ]
  },
  {
   "cell_type": "markdown",
   "metadata": {},
   "source": [
    "## Task 2"
   ]
  },
  {
   "cell_type": "markdown",
   "metadata": {},
   "source": [
    "## Task 3"
   ]
  },
  {
   "cell_type": "markdown",
   "metadata": {},
   "source": [
    "## Task 4\n"
   ]
  },
  {
   "cell_type": "markdown",
   "metadata": {},
   "source": [
    "### References\n",
    "\n",
    "[1] http://www.cse.chalmers.se/~richajo/dit862/assignment2.html#foot1\n",
    "[2] https://scikit-learn.org/stable/modules/feature_extraction.html"
   ]
  },
  {
   "cell_type": "code",
   "execution_count": null,
   "metadata": {},
   "outputs": [],
   "source": []
  }
 ],
 "metadata": {
  "kernelspec": {
   "display_name": "Python 3",
   "language": "python",
   "name": "python3"
  },
  "language_info": {
   "codemirror_mode": {
    "name": "ipython",
    "version": 3
   },
   "file_extension": ".py",
   "mimetype": "text/x-python",
   "name": "python",
   "nbconvert_exporter": "python",
   "pygments_lexer": "ipython3",
   "version": "3.7.4"
  }
 },
 "nbformat": 4,
 "nbformat_minor": 2
}
