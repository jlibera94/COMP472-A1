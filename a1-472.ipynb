{
 "cells": [
  {
   "cell_type": "markdown",
   "metadata": {},
   "source": [
    "# Assignment 1 - COMP 472\n"
   ]
  },
  {
   "cell_type": "markdown",
   "metadata": {},
   "source": [
    "## Task 0\n",
    "Remove document identifier, and also the topic label, which you don't need. "
   ]
  },
  {
   "cell_type": "code",
   "execution_count": 11,
   "metadata": {},
   "outputs": [],
   "source": [
    "from __future__ import division\n",
    "from codecs import open\n",
    "\n",
    "def read_documents(doc_file: str) -> (list, list):\n",
    "    docs = []\n",
    "    labels = []\n",
    "    with open(doc_file, encoding='utf-8') as f:\n",
    "        for line in f:\n",
    "            words = line.strip().split()\n",
    "            docs.append(words[3:])\n",
    "            labels.append(words[1])\n",
    "    return docs, labels\n",
    "    \n",
    "# Reads provide doc file.\n",
    "# Args --> doc_file (str): Path to given data file.\n",
    "# Returns --> Tuple of lists (words, labels) \n",
    " "
   ]
  },
  {
   "cell_type": "code",
   "execution_count": 12,
   "metadata": {},
   "outputs": [],
   "source": [
    "all_docs, all_labels = read_documents(\"C:\\\\Users\\\\jlibe\\\\github\\\\COMP472-A1\\\\sample-text.txt\")\n",
    "\n",
    "split_point = int(0.80*len(all_docs))\n",
    "train_docs = all_docs[:split_point]\n",
    "train_labels = all_labels[:split_point]\n",
    "eval_docs = all_docs[split_point:]\n",
    "eval_labels = all_labels[split_point:]"
   ]
  },
  {
   "cell_type": "code",
   "execution_count": 13,
   "metadata": {},
   "outputs": [],
   "source": [
    "result = [[i,' '.join(j)] for i,j in zip(all_labels, all_docs)]"
   ]
  },
  {
   "cell_type": "markdown",
   "metadata": {},
   "source": [
    "## Task 1\n",
    "Plot the distribution of the number of the instances in each class (books, camera, dvd, health, music, or software).\n"
   ]
  },
  {
   "cell_type": "code",
   "execution_count": 14,
   "metadata": {},
   "outputs": [
    {
     "data": {
      "text/plain": [
       "<matplotlib.axes._subplots.AxesSubplot at 0x21c61a41148>"
      ]
     },
     "execution_count": 14,
     "metadata": {},
     "output_type": "execute_result"
    }
   ],
   "source": [
    "import numpy as np\n",
    "import pandas as pd\n",
    "import matplotlib.pyplot as plt\n",
    "import seaborn as sns\n",
    "data = pd.DataFrame(result, columns=['sentiment','text'])\n",
    "\n",
    "plt.style.use('seaborn')\n",
    "\n",
    "sns.countplot('sentiment', data = data)"
   ]
  },
  {
   "cell_type": "code",
   "execution_count": 15,
   "metadata": {},
   "outputs": [
    {
     "name": "stdout",
     "output_type": "stream",
     "text": [
      "      sentiment                                               text\n",
      "0           neg  i bought this album because i loved the title ...\n",
      "1           neg  i was misled and thought i was buying the enti...\n",
      "2           neg  i have introduced many of my ell , high school...\n",
      "3           pos  anything you purchase in the left behind serie...\n",
      "4           pos  i loved these movies , and i cant wiat for the...\n",
      "...         ...                                                ...\n",
      "11909       neg  the story here dose n't matter . the main char...\n",
      "11910       pos  i liked everything about this product except i...\n",
      "11911       pos  this flash is the perfect back-up for a studio...\n",
      "11912       neg  i had boughten this as a gift which turned out...\n",
      "11913       neg  the pedometer arrive held prisoner in a diffic...\n",
      "\n",
      "[11914 rows x 2 columns]\n"
     ]
    }
   ],
   "source": [
    "print(data)"
   ]
  },
  {
   "cell_type": "code",
   "execution_count": 32,
   "metadata": {},
   "outputs": [
    {
     "name": "stdout",
     "output_type": "stream",
     "text": [
      "X_train:  9531\n",
      "X_test:  2383\n",
      "y_train:  9531\n",
      "y_test:  2383\n"
     ]
    }
   ],
   "source": [
    "print (\"X_train: \", len(train_docs))\n",
    "print(\"X_test: \", len(eval_docs))\n",
    "print(\"y_train: \", len(train_labels))\n",
    "print(\"y_test: \", len(eval_labels))"
   ]
  },
  {
   "cell_type": "code",
   "execution_count": 67,
   "metadata": {},
   "outputs": [],
   "source": [
    "#for counting frequently occurrence of negative and positive words.\n",
    "\n",
    "from collections import Counter\n",
    "import re\n",
    "\n",
    "count1 = Counter(\" \".join(data[data['sentiment']=='pos'][\"text\"]).split()).most_common(30)\n",
    "data1 = pd.DataFrame.from_dict(count1)\n",
    "data1 = data1.rename(columns={0: \"words of positive\", 1 : \"count\"})\n",
    "count2 = Counter(\" \".join(data[data['sentiment']=='neg'][\"text\"]).split()).most_common(30)\n",
    "data2 = pd.DataFrame.from_dict(count2)\n",
    "data2 = data2.rename(columns={0: \"words of negative\", 1 : \"count_\"})"
   ]
  },
  {
   "cell_type": "code",
   "execution_count": null,
   "metadata": {},
   "outputs": [],
   "source": []
  },
  {
   "cell_type": "code",
   "execution_count": 65,
   "metadata": {},
   "outputs": [
    {
     "data": {
      "image/png": "[encoded data removed]",
      "text/plain": [
       "<Figure size 720x360 with 1 Axes>"
      ]
     },
     "metadata": {
      "needs_background": "light"
     },
     "output_type": "display_data"
    }
   ],
   "source": [
    "\n",
    "data1.plot.bar(legend = False, color = 'blue',figsize = (10,5))\n",
    "y_pos = np.arange(len(data1[\"words of positive\"]))\n",
    "plt.xticks(y_pos, data1[\"words of positive\"])\n",
    "plt.title('Top 30 words of positive origin')\n",
    "plt.xlabel('words')\n",
    "plt.ylabel('number')\n",
    "plt.show()"
   ]
  },
  {
   "cell_type": "code",
   "execution_count": 66,
   "metadata": {},
   "outputs": [
    {
     "data": {
      "image/png": "[encoded data removed]",
      "text/plain": [
       "<Figure size 720x360 with 1 Axes>"
      ]
     },
     "metadata": {
      "needs_background": "light"
     },
     "output_type": "display_data"
    }
   ],
   "source": [
    "data2.plot.bar(legend = False, color = 'red', figsize = (10,5))\n",
    "y_pos = np.arange(len(data2[\"words of negative\"]))\n",
    "plt.xticks(y_pos, data2[\"words of negative\"])\n",
    "plt.title('Top 30 words of negative origin')\n",
    "plt.xlabel('words')\n",
    "plt.ylabel('number')\n",
    "plt.show()"
   ]
  },
  {
   "cell_type": "markdown",
   "metadata": {},
   "source": [
    "## Task 2"
   ]
  },
  {
   "cell_type": "code",
   "execution_count": 17,
   "metadata": {},
   "outputs": [],
   "source": [
    "from sklearn.metrics import confusion_matrix\n",
    "from sklearn.metrics import accuracy_score\n",
    "from sklearn.metrics import average_precision_score\n",
    "from sklearn.metrics import roc_auc_score\n",
    "from sklearn.tree import DecisionTreeClassifier"
   ]
  },
  {
   "cell_type": "code",
   "execution_count": 70,
   "metadata": {},
   "outputs": [
    {
     "data": {
      "text/plain": [
       "41893"
      ]
     },
     "execution_count": 70,
     "metadata": {},
     "output_type": "execute_result"
    }
   ],
   "source": [
    "from sklearn.model_selection import train_test_split\n",
    "from sklearn.feature_extraction.text import TfidfVectorizer\n",
    "from sklearn.feature_extraction.text import CountVectorizer\n",
    "\n",
    "X = data['text']\n",
    "y = data['sentiment']\n",
    "\n",
    "X_train, X_test, y_train, y_test = train_test_split(X, y, test_size = 0.2, random_state = 37)\n",
    "# not sure what random state does though\n",
    "\n",
    "#tfidf_vect = TfidfVectorizer()\n",
    "vectorizer = CountVectorizer(stop_words='english')\n",
    "\n",
    "X_train = vectorizer.fit_transform(X_train)\n",
    "X_test = vectorizer.transform(X_test)\n",
    "\n",
    "len(vectorizer.get_feature_names())"
   ]
  },
  {
   "cell_type": "code",
   "execution_count": 71,
   "metadata": {},
   "outputs": [],
   "source": [
    "from sklearn.metrics import accuracy_score,recall_score,precision_score,f1_score\n",
    "from sklearn.metrics import confusion_matrix, classification_report, accuracy_score\n",
    "from sklearn.naive_bayes import MultinomialNB\n",
    "from sklearn.tree import DecisionTreeClassifier\n",
    "from sklearn.ensemble import ExtraTreesClassifier\n",
    "\n",
    "# Naive Bayes Classifier\n",
    "nb = MultinomialNB()\n",
    "\n",
    "# Base - DT\n",
    "dtc = DecisionTreeClassifier(criterion='entropy', random_state=1)\n",
    "\n",
    "models = {'Naive Bayes classifier':nb, 'Decision Tree Classifier':dtc }"
   ]
  },
  {
   "cell_type": "code",
   "execution_count": 72,
   "metadata": {},
   "outputs": [],
   "source": [
    "def eval_model(model):\n",
    "    \n",
    "    model.fit(X_train, y_train)\n",
    "    y_pred = model.predict(X_test)\n",
    "    \n",
    "    test_accuracy = accuracy_score(y_test, y_pred)\n",
    "    conf_matrix = pd.DataFrame(confusion_matrix(y_test, y_pred), columns=['pos', 'neg'], index=['pos','neg'])\n",
    "    \n",
    "    return test_accuracy, conf_matrix"
   ]
  },
  {
   "cell_type": "markdown",
   "metadata": {},
   "source": [
    "## Task 3"
   ]
  },
  {
   "cell_type": "code",
   "execution_count": 73,
   "metadata": {},
   "outputs": [
    {
     "name": "stdout",
     "output_type": "stream",
     "text": [
      "Naive Bayes classifier -> Test accuracy - 80.86% \n",
      "and confusion matrix:\n",
      "     pos  neg\n",
      "pos  998  221\n",
      "neg  235  929\n",
      "Decision Tree Classifier -> Test accuracy - 74.44% \n",
      "and confusion matrix:\n",
      "     pos  neg\n",
      "pos  908  311\n",
      "neg  298  866\n",
      "Extra Trees Classifier -> Test accuracy - 81.45% \n",
      "and confusion matrix:\n",
      "     pos  neg\n",
      "pos  996  223\n",
      "neg  219  945\n"
     ]
    }
   ],
   "source": [
    "test_accuracies = []\n",
    "confusion_matrices = []\n",
    "for name, model in models.items():\n",
    "    test_acc, conf_matrix = eval_model(model) \n",
    "    test_accuracies.append(test_acc)\n",
    "    confusion_matrices.append(conf_matrix)\n",
    "    print(f'{name} -> Test accuracy - {test_acc*100:.2f}% \\nand confusion matrix:\\n{conf_matrix}' )"
   ]
  },
  {
   "cell_type": "markdown",
   "metadata": {},
   "source": [
    "## Task 4\n"
   ]
  },
  {
   "cell_type": "markdown",
   "metadata": {},
   "source": [
    "### References\n",
    "\n",
    "[1] http://www.cse.chalmers.se/~richajo/dit862/assignment2.html#foot1\n",
    "[2] https://scikit-learn.org/stable/modules/feature_extraction.html"
   ]
  },
  {
   "cell_type": "code",
   "execution_count": null,
   "metadata": {},
   "outputs": [],
   "source": []
  }
 ],
 "metadata": {
  "kernelspec": {
   "display_name": "Python 3",
   "language": "python",
   "name": "python3"
  },
  "language_info": {
   "codemirror_mode": {
    "name": "ipython",
    "version": 3
   },
   "file_extension": ".py",
   "mimetype": "text/x-python",
   "name": "python",
   "nbconvert_exporter": "python",
   "pygments_lexer": "ipython3",
   "version": "3.7.4"
  }
 },
 "nbformat": 4,
 "nbformat_minor": 2
}
