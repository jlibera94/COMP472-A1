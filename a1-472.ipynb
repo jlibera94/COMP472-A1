{
  "nbformat": 4,
  "nbformat_minor": 0,
  "metadata": {
    "kernelspec": {
      "display_name": "Python 3",
      "language": "python",
      "name": "python3"
    },
    "language_info": {
      "codemirror_mode": {
        "name": "ipython",
        "version": 3
      },
      "file_extension": ".py",
      "mimetype": "text/x-python",
      "name": "python",
      "nbconvert_exporter": "python",
      "pygments_lexer": "ipython3",
      "version": "3.7.4"
    },
    "colab": {
      "name": "a1-472.ipynb",
      "provenance": [],
      "collapsed_sections": []
    }
  },
  "cells": [
    {
      "cell_type": "markdown",
      "metadata": {
        "id": "Oj6rJodRfnu9"
      },
      "source": [
        "# Assignment 1 - COMP 472\n"
      ]
    },
    {
      "cell_type": "markdown",
      "metadata": {
        "id": "EbWmausufnu-"
      },
      "source": [
        "## Task 0\n",
        "Remove document identifier, and also the topic label, which you don't need. "
      ]
    },
    {
      "cell_type": "code",
      "metadata": {
        "id": "5UlC1S63fnu_"
      },
      "source": [
        "from __future__ import division\n",
        "from codecs import open\n",
        "\n",
        "def read_documents(doc_file: str) -> (list, list):\n",
        "    docs = []\n",
        "    labels = []\n",
        "    with open(doc_file, encoding='utf-8') as f:\n",
        "        for line in f:\n",
        "            words = line.strip().split()\n",
        "            docs.append(words[3:])\n",
        "            labels.append(words[1])\n",
        "    return docs, labels\n",
        "    \n",
        "# Reads provide doc file.\n",
        "# Args --> doc_file (str): Path to given data file.\n",
        "# Returns --> Tuple of lists (words, labels) \n",
        " "
      ],
      "execution_count": 35,
      "outputs": []
    },
    {
      "cell_type": "code",
      "metadata": {
        "id": "labJQRxGfnu_"
      },
      "source": [
        "all_docs, all_labels = read_documents(\"sample-text.txt\")\n",
        "\n",
        "split_point = int(0.80*len(all_docs))\n",
        "train_docs = all_docs[:split_point]\n",
        "train_labels = all_labels[:split_point]\n",
        "eval_docs = all_docs[split_point:]\n",
        "eval_labels = all_labels[split_point:]"
      ],
      "execution_count": 36,
      "outputs": []
    },
    {
      "cell_type": "code",
      "metadata": {
        "id": "Kskjuud-fnvA"
      },
      "source": [
        "result = [[i,' '.join(j)] for i,j in zip(all_labels, all_docs)]"
      ],
      "execution_count": 37,
      "outputs": []
    },
    {
      "cell_type": "markdown",
      "metadata": {
        "id": "myObDBJyfnvA"
      },
      "source": [
        "## Task 1\n",
        "Plot the distribution of the number of the instances in each class (books, camera, dvd, health, music, or software).\n"
      ]
    },
    {
      "cell_type": "code",
      "metadata": {
        "colab": {
          "base_uri": "https://localhost:8080/",
          "height": 431
        },
        "id": "qT13cJ02fnvB",
        "outputId": "d9965229-5cad-4969-c86e-15afa0b6b80c"
      },
      "source": [
        "import numpy as np\n",
        "import pandas as pd\n",
        "import matplotlib.pyplot as plt\n",
        "import seaborn as sns\n",
        "data = pd.DataFrame(result, columns=['sentiment','text'])\n",
        "\n",
        "plt.style.use('seaborn')\n",
        "\n",
        "sns.countplot('sentiment', data = data)"
      ],
      "execution_count": 38,
      "outputs": [
        {
          "output_type": "stream",
          "text": [
            "/usr/local/lib/python3.6/dist-packages/seaborn/_decorators.py:43: FutureWarning: Pass the following variable as a keyword arg: x. From version 0.12, the only valid positional argument will be `data`, and passing other arguments without an explicit keyword will result in an error or misinterpretation.\n",
            "  FutureWarning\n"
          ],
          "name": "stderr"
        },
        {
          "output_type": "execute_result",
          "data": {
            "text/plain": [
              "<matplotlib.axes._subplots.AxesSubplot at 0x7fc69f72f710>"
            ]
          },
          "metadata": {
            "tags": []
          },
          "execution_count": 38
        },
        {
          "output_type": "display_data",
          "data": {
            "image/png": "[encoded data removed]",
            "text/plain": [
              "<Figure size 576x396 with 1 Axes>"
            ]
          },
          "metadata": {
            "tags": []
          }
        }
      ]
    },
    {
      "cell_type": "code",
      "metadata": {
        "colab": {
          "base_uri": "https://localhost:8080/"
        },
        "id": "520toIXIfnvB",
        "outputId": "e87d1677-3458-4f7f-e3d0-320804f17527"
      },
      "source": [
        "print(data)"
      ],
      "execution_count": 39,
      "outputs": [
        {
          "output_type": "stream",
          "text": [
            "      sentiment                                               text\n",
            "0           neg  i bought this album because i loved the title ...\n",
            "1           neg  i was misled and thought i was buying the enti...\n",
            "2           neg  i have introduced many of my ell , high school...\n",
            "3           pos  anything you purchase in the left behind serie...\n",
            "4           pos  i loved these movies , and i cant wiat for the...\n",
            "...         ...                                                ...\n",
            "11909       neg  the story here dose n't matter . the main char...\n",
            "11910       pos  i liked everything about this product except i...\n",
            "11911       pos  this flash is the perfect back-up for a studio...\n",
            "11912       neg  i had boughten this as a gift which turned out...\n",
            "11913       neg  the pedometer arrive held prisoner in a diffic...\n",
            "\n",
            "[11914 rows x 2 columns]\n"
          ],
          "name": "stdout"
        }
      ]
    },
    {
      "cell_type": "code",
      "metadata": {
        "colab": {
          "base_uri": "https://localhost:8080/"
        },
        "id": "YpCivbvlfnvC",
        "outputId": "7b2dabff-0bf8-4624-c3d1-6ba9c44a6e72"
      },
      "source": [
        "print (\"X_train: \", len(train_docs))\n",
        "print(\"X_test: \", len(eval_docs))\n",
        "print(\"y_train: \", len(train_labels))\n",
        "print(\"y_test: \", len(eval_labels))"
      ],
      "execution_count": 40,
      "outputs": [
        {
          "output_type": "stream",
          "text": [
            "X_train:  9531\n",
            "X_test:  2383\n",
            "y_train:  9531\n",
            "y_test:  2383\n"
          ],
          "name": "stdout"
        }
      ]
    },
    {
      "cell_type": "code",
      "metadata": {
        "id": "QhPRtKqefnvC"
      },
      "source": [
        "#for counting frequently occurrence of negative and positive words.\n",
        "\n",
        "from collections import Counter\n",
        "import re\n",
        "\n",
        "count1 = Counter(\" \".join(data[data['sentiment']=='pos'][\"text\"]).split()).most_common(30)\n",
        "data1 = pd.DataFrame.from_dict(count1)\n",
        "data1 = data1.rename(columns={0: \"words of positive\", 1 : \"count\"})\n",
        "count2 = Counter(\" \".join(data[data['sentiment']=='neg'][\"text\"]).split()).most_common(30)\n",
        "data2 = pd.DataFrame.from_dict(count2)\n",
        "data2 = data2.rename(columns={0: \"words of negative\", 1 : \"count_\"})"
      ],
      "execution_count": 41,
      "outputs": []
    },
    {
      "cell_type": "code",
      "metadata": {
        "id": "Fq7N3n2XfnvC"
      },
      "source": [
        ""
      ],
      "execution_count": 41,
      "outputs": []
    },
    {
      "cell_type": "code",
      "metadata": {
        "colab": {
          "base_uri": "https://localhost:8080/",
          "height": 360
        },
        "id": "S8coz6-NfnvD",
        "outputId": "9d6008a5-ed96-41f1-c858-567aeb7ce0f0"
      },
      "source": [
        "\n",
        "data1.plot.bar(legend = False, color = 'blue',figsize = (10,5))\n",
        "y_pos = np.arange(len(data1[\"words of positive\"]))\n",
        "plt.xticks(y_pos, data1[\"words of positive\"])\n",
        "plt.title('Top 30 words of positive origin')\n",
        "plt.xlabel('words')\n",
        "plt.ylabel('number')\n",
        "plt.show()"
      ],
      "execution_count": 42,
      "outputs": [
        {
          "output_type": "display_data",
          "data": {
            "image/png": "[encoded data removed]",
            "text/plain": [
              "<Figure size 720x360 with 1 Axes>"
            ]
          },
          "metadata": {
            "tags": []
          }
        }
      ]
    },
    {
      "cell_type": "code",
      "metadata": {
        "colab": {
          "base_uri": "https://localhost:8080/",
          "height": 360
        },
        "id": "-IdBoqP6fnvD",
        "outputId": "af6e8d0f-f672-427d-e1e8-fdaa9fd2d12e"
      },
      "source": [
        "data2.plot.bar(legend = False, color = 'red', figsize = (10,5))\n",
        "y_pos = np.arange(len(data2[\"words of negative\"]))\n",
        "plt.xticks(y_pos, data2[\"words of negative\"])\n",
        "plt.title('Top 30 words of negative origin')\n",
        "plt.xlabel('words')\n",
        "plt.ylabel('number')\n",
        "plt.show()"
      ],
      "execution_count": 43,
      "outputs": [
        {
          "output_type": "display_data",
          "data": {
            "image/png": "[encoded data removed]",
            "text/plain": [
              "<Figure size 720x360 with 1 Axes>"
            ]
          },
          "metadata": {
            "tags": []
          }
        }
      ]
    },
    {
      "cell_type": "markdown",
      "metadata": {
        "id": "RjzAGiuAfnvE"
      },
      "source": [
        "## Task 2"
      ]
    },
    {
      "cell_type": "code",
      "metadata": {
        "id": "jZfF52wufnvE"
      },
      "source": [
        "from sklearn.metrics import confusion_matrix\n",
        "from sklearn.metrics import accuracy_score\n",
        "from sklearn.metrics import average_precision_score\n",
        "from sklearn.metrics import roc_auc_score\n",
        "from sklearn.tree import DecisionTreeClassifier"
      ],
      "execution_count": 44,
      "outputs": []
    },
    {
      "cell_type": "code",
      "metadata": {
        "colab": {
          "base_uri": "https://localhost:8080/"
        },
        "id": "wUKOlZlMfnvE",
        "outputId": "6689ecc5-02fb-411b-c5f8-ff6d6ecbd67d"
      },
      "source": [
        "from sklearn.model_selection import train_test_split\n",
        "from sklearn.feature_extraction.text import TfidfVectorizer\n",
        "from sklearn.feature_extraction.text import CountVectorizer\n",
        "\n",
        "X = data['text']\n",
        "y = data['sentiment']\n",
        "\n",
        "X_train, X_test, y_train, y_test = train_test_split(X, y, test_size = 0.2, random_state = 37)\n",
        "# not sure what random state does though\n",
        "\n",
        "X_test_text = X_test.copy()\n",
        "\n",
        "#tfidf_vect = TfidfVectorizer()\n",
        "vectorizer = CountVectorizer(stop_words='english')\n",
        "\n",
        "X_train = vectorizer.fit_transform(X_train)\n",
        "X_test = vectorizer.transform(X_test)\n",
        "\n",
        "len(vectorizer.get_feature_names())"
      ],
      "execution_count": 45,
      "outputs": [
        {
          "output_type": "execute_result",
          "data": {
            "text/plain": [
              "41893"
            ]
          },
          "metadata": {
            "tags": []
          },
          "execution_count": 45
        }
      ]
    },
    {
      "cell_type": "code",
      "metadata": {
        "id": "Eo7RAWzYfnvE"
      },
      "source": [
        "from sklearn.metrics import accuracy_score,recall_score,precision_score,f1_score\n",
        "from sklearn.metrics import confusion_matrix, classification_report, accuracy_score, make_scorer\n",
        "from sklearn.naive_bayes import MultinomialNB\n",
        "from sklearn.tree import DecisionTreeClassifier\n",
        "from sklearn.ensemble import ExtraTreesClassifier\n",
        "from sklearn.model_selection import GridSearchCV\n",
        "import csv\n",
        "\n",
        "# Naive Bayes Classifier\n",
        "nb = MultinomialNB()\n",
        "\n",
        "# Base - DT\n",
        "dtc = DecisionTreeClassifier(criterion='entropy')\n",
        "\n",
        "#Best DT Grid Search CV\n",
        "#parameters = {'criterion':[\"entropy\"], 'random_state':range(0,100),'min_samples_split':range(2,20), 'min_impurity_decrease': list(np.linspace(0,1,20))}\n",
        "# parameters = {'criterion':[\"entropy\"], 'random_state':range(0,100)}\n",
        "# acc_scorer = make_scorer(accuracy_score)\n",
        "# clf = GridSearchCV(DecisionTreeClassifier(), parameters, scoring=acc_scorer)\n",
        "# clf.fit(X_train, y_train)\n",
        "# best_dt = clf.best_estimator_\n",
        "# print (clf.best_score_, clf.best_params_)\n",
        "\n",
        "best_dt = ExtraTreesClassifier(n_estimators=37, random_state=252)\n",
        "\n",
        "\n",
        "\n",
        "models = {'Naive Bayes classifier':nb, 'Decision Tree Classifier':dtc, 'Optimal Decision Tree Classifier':best_dt}"
      ],
      "execution_count": 46,
      "outputs": []
    },
    {
      "cell_type": "code",
      "metadata": {
        "id": "sPQLLhzCfnvF"
      },
      "source": [
        "def eval_model(model):\n",
        "    \n",
        "    model.fit(X_train, y_train)\n",
        "    y_pred = model.predict(X_test)\n",
        "    \n",
        "    test_accuracy = accuracy_score(y_test, y_pred)\n",
        "    test_report = classification_report(y_test, y_pred)\n",
        "    conf_matrix = pd.DataFrame(confusion_matrix(y_test, y_pred), columns=['pos', 'neg'], index=['pos','neg'])\n",
        "    \n",
        "    return test_accuracy, conf_matrix, test_report, y_pred"
      ],
      "execution_count": 47,
      "outputs": []
    },
    {
      "cell_type": "markdown",
      "metadata": {
        "id": "msuYmcwZfnvF"
      },
      "source": [
        "## Task 3"
      ]
    },
    {
      "cell_type": "code",
      "metadata": {
        "id": "uOEHCCp0fnvF"
      },
      "source": [
        "test_accuracies = []\n",
        "confusion_matrices = []\n",
        "for name, model in models.items():\n",
        "    test_acc, conf_matrix, test_report, y_pred = eval_model(model) \n",
        "    test_accuracies.append(test_acc)\n",
        "    confusion_matrices.append(conf_matrix)\n",
        "    with open('{}.txt'.format(name), mode='w') as csvfile:\n",
        "      writer = csv.writer(csvfile, lineterminator='\\n')\n",
        "      for i in range(X_test.shape[0]):\n",
        "        writer.writerow([i, y_pred[i]])\n",
        "      writer.writerow([f'{name} -> Test accuracy - {test_acc*100:.2f}% \\nand confusion matrix:\\n{conf_matrix}'])\n",
        "      writer.writerow([test_report])\n",
        "    \n",
        "    csvfile.close()"
      ],
      "execution_count": 48,
      "outputs": []
    },
    {
      "cell_type": "markdown",
      "metadata": {
        "id": "Wd7HMneRfnvG"
      },
      "source": [
        "## Task 4\n"
      ]
    },
    {
      "cell_type": "code",
      "metadata": {
        "id": "gR0uaQaIN_k3",
        "colab": {
          "base_uri": "https://localhost:8080/"
        },
        "outputId": "8664237f-11f3-4c3d-fe3e-f0a8ed87c16f"
      },
      "source": [
        "#Getting false predictions. Currently being saved in txt file, but would be better to store in a dataframe and save to disk.\r\n",
        "for name, model in models.items():\r\n",
        "  print(model.classes_)\r\n",
        "  y_pred_probs = model.predict_proba(X_test)\r\n",
        "  y_pred = model.predict(X_test)\r\n",
        "  rounded_probs = np.around(y_pred_probs)\r\n",
        "  y_test_binary = y_test.copy()\r\n",
        "  y_test_binary[y_test_binary == 'neg'] = 0\r\n",
        "  y_test_binary[y_test_binary == 'pos'] = 1\r\n",
        "  false_predictions = np.zeros(y_test.shape)\r\n",
        "  false_predictions[y_test != y_pred] = 1\r\n",
        "  false_pred_indices = np.where(false_predictions)\r\n",
        "\r\n",
        "  with open('{}-false-predictions.txt'.format(name), mode='w') as outfile:\r\n",
        "    writer = csv.writer(outfile, lineterminator='\\n')\r\n",
        "    writer.writerow([\"{} False Predictions\".format(name)])\r\n",
        "    for ind in false_pred_indices:\r\n",
        "      text = np.array(X_test_text)[ind]\r\n",
        "      writer.writerow([text, y_pred_probs[ind], np.array(y_test_binary)[ind]])\r\n",
        "      print(\"prediction: {}, pred_proba: {}, true: {}\".format(y_pred[ind][0], y_pred_probs[ind][1], np.array(y_test_binary)[ind][0]))"
      ],
      "execution_count": 49,
      "outputs": [
        {
          "output_type": "stream",
          "text": [
            "['neg' 'pos']\n",
            "prediction: pos, pred_proba: [0.07297187 0.92702813], true: 0\n",
            "['neg' 'pos']\n",
            "prediction: pos, pred_proba: [0. 1.], true: 0\n",
            "['neg' 'pos']\n",
            "prediction: neg, pred_proba: [0.45945946 0.54054054], true: 1\n"
          ],
          "name": "stdout"
        }
      ]
    },
    {
      "cell_type": "markdown",
      "metadata": {
        "id": "AqI4jJRpfnvG"
      },
      "source": [
        "### References\n",
        "\n",
        "[1] http://www.cse.chalmers.se/~richajo/dit862/assignment2.html#foot1\n",
        "[2] https://scikit-learn.org/stable/modules/feature_extraction.html"
      ]
    },
    {
      "cell_type": "code",
      "metadata": {
        "id": "pTJxZcRjfnvG"
      },
      "source": [
        ""
      ],
      "execution_count": 49,
      "outputs": []
    }
  ]
}