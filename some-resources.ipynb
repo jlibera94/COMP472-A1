{
 "cells": [
  {
   "cell_type": "markdown",
   "metadata": {},
   "source": [
    "# Some resources to get up to speed\n",
    "\n",
    "1. Look over Lab 0 quickly to get the overall idea of jupyter notebook (< 30 min)\n",
    "2. Followed this [quick tutorial](https://www.youtube.com/watch?v=uVLzL5E-YBM&ab_channel=ReuvenLerner) for using Markdown in Jupyter (< 45 min)"
   ]
  },
  {
   "cell_type": "code",
   "execution_count": null,
   "metadata": {},
   "outputs": [],
   "source": []
  }
 ],
 "metadata": {
  "kernelspec": {
   "display_name": "Python 3",
   "language": "python",
   "name": "python3"
  },
  "language_info": {
   "codemirror_mode": {
    "name": "ipython",
    "version": 3
   },
   "file_extension": ".py",
   "mimetype": "text/x-python",
   "name": "python",
   "nbconvert_exporter": "python",
   "pygments_lexer": "ipython3",
   "version": "3.7.4"
  }
 },
 "nbformat": 4,
 "nbformat_minor": 2
}
